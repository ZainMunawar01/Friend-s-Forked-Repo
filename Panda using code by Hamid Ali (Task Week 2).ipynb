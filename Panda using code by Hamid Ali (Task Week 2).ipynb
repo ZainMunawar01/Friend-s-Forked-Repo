{
 "cells": [
  {
   "cell_type": "code",
   "execution_count": 2,
   "metadata": {},
   "outputs": [
    {
     "name": "stdout",
     "output_type": "stream",
     "text": [
      "a    1\n",
      "x    4\n",
      "c    9\n",
      "2    6\n",
      "e    7\n",
      "dtype: int64\n"
     ]
    }
   ],
   "source": [
    "import pandas as pd\n",
    "\n",
    "data = [1, 4, 9, 6, 7]\n",
    "index = ['a', 'x', 'c', '2', 'e']\n",
    "series = pd.Series(data, index=index)\n",
    "\n",
    "print(series)\n"
   ]
  },
  {
   "cell_type": "code",
   "execution_count": 3,
   "metadata": {},
   "outputs": [
    {
     "name": "stdout",
     "output_type": "stream",
     "text": [
      "Bilal     42\n",
      "Ayesha    38\n",
      "Hadia     39\n",
      "dtype: int64\n"
     ]
    }
   ],
   "source": [
    "import pandas as pd\n",
    "\n",
    "data = {'Bilal': 42, 'Ayesha': 38, 'Hadia': 39}\n",
    "series = pd.Series(data)\n",
    "\n",
    "print(series)\n"
   ]
  },
  {
   "cell_type": "code",
   "execution_count": 4,
   "metadata": {},
   "outputs": [
    {
     "name": "stdout",
     "output_type": "stream",
     "text": [
      "        day  temperature  windspeed  event\n",
      "0  1/1/2017           32          6   Rain\n",
      "1  1/2/2017           35          7  Sunny\n",
      "2  1/3/2017           28          2   Snow\n",
      "3  1/4/2017           24          7   Snow\n",
      "4  1/5/2017           32          4   Rain\n",
      "5  1/6/2017           31          2  Sunny\n"
     ]
    }
   ],
   "source": [
    "import pandas as pd\n",
    "\n",
    "data = {\n",
    "    \"day\": [\"1/1/2017\", \"1/2/2017\", \"1/3/2017\", \"1/4/2017\", \"1/5/2017\", \"1/6/2017\"],\n",
    "    \"temperature\": [32, 35, 28, 24, 32, 31],\n",
    "    \"windspeed\": [6, 7, 2, 7, 4, 2],\n",
    "    \"event\": [\"Rain\", \"Sunny\", \"Snow\", \"Snow\", \"Rain\", \"Sunny\"]\n",
    "}\n",
    "\n",
    "df = pd.DataFrame(data)\n",
    "print(df)\n"
   ]
  },
  {
   "cell_type": "code",
   "execution_count": 5,
   "metadata": {},
   "outputs": [
    {
     "name": "stdout",
     "output_type": "stream",
     "text": [
      "        day  temperature  windspeed  event\n",
      "a  1/1/2017           32          6   Rain\n",
      "b  1/2/2017           35          7  Sunny\n",
      "c  1/3/2017           28          2   Snow\n",
      "d  1/4/2017           24          7   Snow\n",
      "e  1/5/2017           32          4   Rain\n",
      "f  1/6/2017           31          2  Sunny\n"
     ]
    }
   ],
   "source": [
    "df.index = ['a', 'b', 'c', 'd', 'e', 'f']\n",
    "print(df)\n"
   ]
  },
  {
   "cell_type": "code",
   "execution_count": 6,
   "metadata": {},
   "outputs": [
    {
     "name": "stdout",
     "output_type": "stream",
     "text": [
      "Mean Temperature: 30.333333333333332\n",
      "Maximum Temperature: 35\n",
      "Minimum Temperature: 24\n"
     ]
    }
   ],
   "source": [
    "mean_temp = df['temperature'].mean()\n",
    "max_temp = df['temperature'].max()\n",
    "min_temp = df['temperature'].min()\n",
    "\n",
    "print(f\"Mean Temperature: {mean_temp}\")\n",
    "print(f\"Maximum Temperature: {max_temp}\")\n",
    "print(f\"Minimum Temperature: {min_temp}\")\n"
   ]
  },
  {
   "cell_type": "code",
   "execution_count": 1,
   "metadata": {},
   "outputs": [
    {
     "name": "stdout",
     "output_type": "stream",
     "text": [
      "DataFrame df1:\n",
      "     Name Qualification\n",
      "0     Ali           BSc\n",
      "1   Bilal            MS\n",
      "2   Hifza           PhD\n",
      "3  Khalid            MS\n",
      "4    Sara           BSc\n",
      "\n",
      "DataFrame AICP_DF:\n",
      "       Qualification  Height\n",
      "Name                        \n",
      "Ali              BSc     5.1\n",
      "Hifza            PhD     5.1\n",
      "Khalid            MS     5.2\n",
      "Sara             BSc     5.1\n",
      "\n",
      "Row with index 'Hifza':\n",
      "Qualification    PhD\n",
      "Height           5.1\n",
      "Name: Hifza, dtype: object\n",
      "\n",
      "Row with index 3:\n",
      "Qualification    PhD\n",
      "Height           5.1\n",
      "Name: Hifza, dtype: object\n"
     ]
    }
   ],
   "source": [
    "import pandas as pd\n",
    "\n",
    "data = {\n",
    "    'Name': ['Ali', 'Bilal', 'Hifza', 'Khalid', 'Sara'],\n",
    "    'Qualification': ['BSc', 'MS', 'PhD', 'MS', 'BSc']\n",
    "}\n",
    "AICP_DF = pd.DataFrame(data)\n",
    "\n",
    "df1 = AICP_DF[['Name', 'Qualification']]\n",
    "\n",
    "AICP_DF['Height'] = [5.1, 6.2, 5.1, 5.2, 5.1]\n",
    "\n",
    "AICP_DF.set_index('Name', inplace=True)\n",
    "\n",
    "row_hifza = AICP_DF.loc['Hifza']\n",
    "\n",
    "row_index_3 = AICP_DF.iloc[2] \n",
    "\n",
    "AICP_DF.drop('Bilal', inplace=True)\n",
    "\n",
    "print(\"DataFrame df1:\")\n",
    "print(df1)\n",
    "print(\"\\nDataFrame AICP_DF:\")\n",
    "print(AICP_DF)\n",
    "print(\"\\nRow with index 'Hifza':\")\n",
    "print(row_hifza)\n",
    "print(\"\\nRow with index 3:\")\n",
    "print(row_index_3)\n"
   ]
  }
 ],
 "metadata": {
  "kernelspec": {
   "display_name": "base",
   "language": "python",
   "name": "python3"
  },
  "language_info": {
   "codemirror_mode": {
    "name": "ipython",
    "version": 3
   },
   "file_extension": ".py",
   "mimetype": "text/x-python",
   "name": "python",
   "nbconvert_exporter": "python",
   "pygments_lexer": "ipython3",
   "version": "3.11.7"
  }
 },
 "nbformat": 4,
 "nbformat_minor": 2
}
